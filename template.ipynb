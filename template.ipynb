{
    "cells": [
     {
      "cell_type": "markdown",
      "metadata": {},
      "source": [
       " # Méthode 1 : PL en \"ligne\""
      ]
     },
     {
      "cell_type": "code",
      "execution_count": 26,
      "metadata": {
       "scrolled": true
      },
      "outputs": [
       {
        "name": "stdout",
        "output_type": "stream",
        "text": [
         "La solution optimale est (v0, v1) = (2.4, 1.6) avec pour objectif z = 1.6\n"
        ]
       }
      ],
      "source": [
       "from gurobipy import *\n",
       "# Instanciation du modèle\n",
       "m = Model(\"Simple PL modelling\")\n",
       "# Création de 2 variables continues v0 et v1\n",
       "v0 = m.addVar()\n",
       "v1 = m.addVar()\n",
       "# maj du modèle\n",
       "m.update()\n",
       "# Ajout de 3 constraintes \n",
       "m.addConstr(v0 - v1 <= 4)\n",
       "m.addConstr(v0 + v1 <= 4)\n",
       "m.addConstr(-0.25*v0 + v1 <= 1)\n",
       "# Fonction Objectif\n",
       "m.setObjective(v1, GRB.MAXIMIZE)         \n",
       "# Paramétrage (mode mute)\n",
       "m.params.outputflag = 0\n",
       "# Résolution du PL\n",
       "m.optimize()\n",
       "print(\"La solution optimale est (v0, v1) = {} avec pour objectif z = {}\".format((v0.x, v1.x), m.objVal))"
      ]
     },
     {
      "cell_type": "code",
      "execution_count": 19,
      "metadata": {
       "scrolled": true
      },
      "outputs": [
       {
        "data": {
         "image/png": "[encoded data removed]",
         "text/plain": [
          "<Figure size 432x288 with 1 Axes>"
         ]
        },
        "metadata": {
         "needs_background": "light"
        },
        "output_type": "display_data"
       }
      ],
      "source": [
       "import matplotlib.pyplot as pyplot\n",
       "pyplot.plot([2,6], [-2,2])\n",
       "pyplot.plot([0,6], [4,-2])\n",
       "pyplot.plot([0,6], [1,2.5])\n",
       "pyplot.plot([0, 6], [0, 0])\n",
       "pyplot.plot([0, 0], [0, 4])\n",
       "pyplot.plot(v0.x, v1.x, 'ro')\n",
       "pyplot.show()"
      ]
     },
     {
      "cell_type": "markdown",
      "metadata": {},
      "source": [
       "# Méthode 2 : PL sous forme matricielle"
      ]
     },
     {
      "cell_type": "code",
      "execution_count": 21,
      "metadata": {},
      "outputs": [
       {
        "name": "stdout",
        "output_type": "stream",
        "text": [
         "Maximize\n",
         "   <gurobi.LinExpr: C1>\n",
         "Subject To\n",
         "   R0 : <gurobi.LinExpr: C0 + -1.0 C1> <= 4.0\n",
         "   R1 : <gurobi.LinExpr: C0 + C1> <= 4.0\n",
         "   R2 : <gurobi.LinExpr: -0.25 C0 + C1> <= 1.0\n",
         "None\n",
         "La solution optimale est (v0, v1) = [2.4 1.6] avec pour objectif z = 1.6\n"
        ]
       }
      ],
      "source": [
       "import numpy as np\n",
       "\n",
       "# Instanciation du modèle\n",
       "m = Model(\"PL modelling using matrix\")\n",
       "\n",
       "# Création d'un vecteur de 2 variables continues\n",
       "v = m.addMVar(shape=2)\n",
       "\n",
       "# maj du modèle\n",
       "m.update()\n",
       "\n",
       "# Contraintes\n",
       "A = np.array([ [1,    -1],\n",
       "               [1,     1],\n",
       "               [-0.25, 1] ])\n",
       "b = np.array([4, 4, 1])\n",
       "m.addConstr(A @ v <= b)\n",
       "\n",
       "# Fonction Obectif\n",
       "obj = np.array([0.0, 1.0])\n",
       "m.setObjective(obj @ v, GRB.MAXIMIZE)\n",
       "\n",
       "# Paramétrage (mode mute)\n",
       "m.params.outputflag = 0\n",
       "\n",
       "# Résolution du PL\n",
       "m.optimize()\n",
       "\n",
       "# Affichage en mode texte du PL\n",
       "print(m.display())\n",
       "\n",
       "print(\"La solution optimale est (v0, v1) = {} avec pour objectif z = {}\".format((v.X), m.objVal))"
      ]
     },
     {
      "cell_type": "code",
      "execution_count": 22,
      "metadata": {},
      "outputs": [
       {
        "data": {
         "image/png": "[encoded data removed]",
         "text/plain": [
          "<Figure size 432x288 with 1 Axes>"
         ]
        },
        "metadata": {
         "needs_background": "light"
        },
        "output_type": "display_data"
       }
      ],
      "source": [
       "pyplot.plot([2,6], [-2,2])\n",
       "pyplot.plot([0,6], [4,-2])\n",
       "pyplot.plot([0,6], [1,2.5])\n",
       "pyplot.plot([0, 6], [0, 0])\n",
       "pyplot.plot([0, 0], [0, 4])\n",
       "pyplot.plot(v.x[0], v.x[1], 'ro')\n",
       "pyplot.show()"
      ]
     },
     {
      "cell_type": "markdown",
      "metadata": {},
      "source": [
       "# Méthode 3 : Un autre PL"
      ]
     },
     {
      "cell_type": "code",
      "execution_count": 23,
      "metadata": {},
      "outputs": [
       {
        "name": "stdout",
        "output_type": "stream",
        "text": [
         "Optimal Solutions\n",
         "x1= 10.0\n",
         "x2= 2.1875\n",
         "x3= 0.9375\n",
         "Objective= 19.0625\n"
        ]
       }
      ],
      "source": [
       "# Instanciation du modèle\n",
       "m = Model(\"Un autre PL\")\n",
       "\n",
       "# Variables\n",
       "x1 = m.addVar(name=\"x1\", lb=0, ub=10)\n",
       "x2 = m.addVar(name=\"x2\", lb=0)\n",
       "x3 = m.addVar(name=\"x3\", lb=0)\n",
       "\n",
       "# maj\n",
       "m.update()\n",
       "\n",
       "# Contraintes\n",
       "m.addConstr(-x1 + x2 + 3*x3 <= -5)\n",
       "m.addConstr(x1 + 3*x2 - 7*x3 <= 10)\n",
       "m.setObjective(x1 + 2*x2 + 5*x3, GRB.MAXIMIZE)\n",
       "\n",
       "# Paramétrage (mode mute)\n",
       "m.params.outputflag = 0\n",
       "\n",
       "# Résolution\n",
       "m.optimize()\n",
       "\n",
       "# Priting the optimal solutions obtained\n",
       "print(\"Optimal Solutions\")\n",
       "print(\"x1=\", x1.x)\n",
       "print(\"x2=\", x2.x)\n",
       "print(\"x3=\", x3.x)\n",
       "print(\"Objective=\", m.objVal)"
      ]
     },
     {
      "cell_type": "code",
      "execution_count": 29,
      "metadata": {},
      "outputs": [
       {
        "name": "stdout",
        "output_type": "stream",
        "text": [
         "Maximize\n",
         "   <gurobi.LinExpr: C0 + 2.0 C1 + 5.0 C2>\n",
         "Subject To\n",
         "   R0 : <gurobi.LinExpr: -1.0 C0 + C1 + 3.0 C2> <= -5.0\n",
         "   R1 : <gurobi.LinExpr: C0 + 3.0 C1 + -7.0 C2> <= 10.0\n",
         "   R2 : <gurobi.LinExpr: C0> <= 10.0\n",
         "None\n",
         "La solution optimale est (x1, x2, x3) = [10.      2.1875  0.9375] avec pour objectif z = 19.0625\n"
        ]
       }
      ],
      "source": [
       "# Instanciation du modèle\n",
       "m = Model(\"PL modelling using matrix\")\n",
       "\n",
       "# Vecteur de variables\n",
       "x = m.addMVar(shape=3)\n",
       "m.update()\n",
       "\n",
       "# Coefficients membre gauche Contraintes\n",
       "A = np.array([ [-1, 1, 3],\n",
       "               [ 1, 3,-7],\n",
       "               [ 1, 0, 0]\n",
       "             ])\n",
       "\n",
       "# Coefficients membre droit Contraintes\n",
       "b = np.array([-5, 10, 10])\n",
       "m.addConstr(A @ x <= b)\n",
       "\n",
       "# Fonction Obectif\n",
       "obj = np.array([1, 2, 5])\n",
       "m.setObjective(obj @ x, GRB.MAXIMIZE)\n",
       "\n",
       "m.params.outputflag = 0\n",
       "# maj\n",
       "m.update()\n",
       "# Affichage en mode texte du PL\n",
       "print(m.display())\n",
       "\n",
       "# Résolution du PL\n",
       "m.optimize()\n",
       "print(\"La solution optimale est (x1, x2, x3) = {} avec pour objectif z = {}\".format((x.X), m.objVal))\n"
      ]
     },
     {
      "cell_type": "code",
      "execution_count": 27,
      "metadata": {
       "scrolled": true
      },
      "outputs": [
       {
        "name": "stdout",
        "output_type": "stream",
        "text": [
         "Read LP format model from file model.lp\n",
         "Reading time = 0.01 seconds\n",
         ": 2 rows, 3 columns, 6 nonzeros\n",
         "Maximize\n",
         "   <gurobi.LinExpr: x + 2.0 y + 5.0 z>\n",
         "Subject To\n",
         "   c0 : <gurobi.LinExpr: -1.0 x + y + 3.0 z> <= -5.0\n",
         "   c1 : <gurobi.LinExpr: x + 3.0 y + -7.0 z> <= 10.0\n",
         "Bounds\n",
         "   0.0 <= x <= 10.0\n",
         "None\n",
         "La solution optimale est (x1, x2, x3) = [10.0, 2.1875, 0.9375] avec pour objectif z = 19.0625\n"
        ]
       }
      ],
      "source": [
       "# Lecture de fichier\n",
       "m = read('model.lp')\n",
       "m.params.outputflag = 0\n",
       "# Affichage\n",
       "print(m.display())\n",
       "# Résolution\n",
       "m.optimize()\n",
       "# Récupérer les valeurs des variables\n",
       "x_values = [var.x for var in m.getVars()]\n",
       "print(\"La solution optimale est (x1, x2, x3) = {} avec pour objectif z = {}\".format(x_values, m.objVal))"
      ]
     },
     {
      "cell_type": "markdown",
      "metadata": {},
      "source": [
       "# À VOUS DE JOUER"
      ]
     },
     {
      "cell_type": "markdown",
      "metadata": {},
      "source": [
       "Implémenter et résoudre suivant chacune des 3 méthodes détaillées ci-dessus les programmes linéaires qui suivent :\n",
       "\n",
       "$(P_1)$\n",
       "Maximiser $x_1 + x_2$\n",
       "\n",
       "$S/C :$\n",
       "\n",
       "$2x_1 + x_2 \\leq 14$\n",
       "\n",
       "$-x_1 + 2x_2 \\leq 8$\n",
       "\n",
       "$2x_1 - x_2 \\leq 10$\n",
       "\n",
       "$x_1 \\in \\mathbb{R}^+, \\,x_2 \\in \\mathbb{R}^+$\n",
       "\n",
       "\n",
       "\n",
       "$(P_2)$\n",
       "Minimiser $14x_1 + 8x_2 + 10x_3$\n",
       "\n",
       "$S/C :$\n",
       "\n",
       "$2x_1 - x_2 + 2 \\geq 1$\n",
       "\n",
       "$x_1 + 2x_2 - x_3 \\geq 1$\n",
       "\n",
       "\n",
       "$x_1 \\in \\mathbb{R}^+, \\,x_2 \\in \\mathbb{R}^+, \\, x_3 \\in \\mathbb{R}^+$\n",
       "\n",
       "\n",
       "$(P_3)$\n",
       "Maximiser $160A + 300B + 500C$\n",
       "\n",
       "$S/C:$\n",
       "\n",
       "$3A + 3.5B + 5C \\leq 1800$\n",
       "\n",
       "$4A + 5B + 8C \\leq 2400$\n",
       "\n",
       "$A + 1.5B + 8C \\leq 720$\n",
       "\n",
       "$A \\geq 100$\n",
       "\n",
       "$B \\geq 150$\n",
       "\n",
       "$C \\geq 75$\n",
       "\n",
       "$A, B, C \\in \\mathbb{N}$\n",
       "\n",
       "\n",
       "$(P_4)$\n",
       "Maximiser $c^{T}x$\n",
       "\n",
       "$S/C:$\n",
       "\n",
       "$Ax \\leq b$\n",
       "\n",
       "$x \\geq 0$\n",
       "\n",
       "avec : \n",
       "$x = \\begin{pmatrix} x_1\\\\x_2 \\end{pmatrix}$\n",
       "\n",
       "$A = \\begin{pmatrix} 1 & 1\\\\1 & 3 \\\\0 & 3 \\end{pmatrix}$\n",
       "\n",
       "$b = \\begin{pmatrix} 150\\\\210\\\\180 \\end{pmatrix}$\n",
       "\n",
       "$c = \\begin{pmatrix} 300\\\\500 \\end{pmatrix}$"
      ]
     }
    ],
    "metadata": {
     "kernelspec": {
      "display_name": "Python 3",
      "language": "python",
      "name": "python3"
     },
     "language_info": {
      "codemirror_mode": {
       "name": "ipython",
       "version": 3
      },
      "file_extension": ".py",
      "mimetype": "text/x-python",
      "name": "python",
      "nbconvert_exporter": "python",
      "pygments_lexer": "ipython3",
      "version": "3.7.4"
     }
    },
    "nbformat": 4,
    "nbformat_minor": 2
   }